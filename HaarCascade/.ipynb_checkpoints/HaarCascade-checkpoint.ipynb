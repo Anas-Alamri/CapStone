{
 "cells": [
  {
   "cell_type": "code",
   "execution_count": 1,
   "metadata": {},
   "outputs": [],
   "source": [
    "import cv2\n",
    "import matplotlib.pyplot as plt\n",
    "%matplotlib inline\n",
    "import numpy as np\n",
    "import datetime"
   ]
  },
  {
   "cell_type": "code",
   "execution_count": 2,
   "metadata": {},
   "outputs": [],
   "source": [
    "def convertToRGB(image):\n",
    "    return cv2.cvtColor(image, cv2.COLOR_BGR2RGB)"
   ]
  },
  {
   "cell_type": "code",
   "execution_count": 3,
   "metadata": {},
   "outputs": [],
   "source": [
    "haar_cascade_face = cv2.CascadeClassifier('cascadew.xml')"
   ]
  },
  {
   "cell_type": "code",
   "execution_count": 4,
   "metadata": {},
   "outputs": [],
   "source": [
    "# faces_rects = haar_cascade_face.detectMultiScale(test_image_gray, scaleFactor = 3, minNeighbors = 2);"
   ]
  },
  {
   "cell_type": "code",
   "execution_count": 5,
   "metadata": {},
   "outputs": [],
   "source": [
    "\n",
    "def detect_faces(cascade, test_image, scaleFactor =1.01):\n",
    "    # create a copy of the image to prevent any changes to the original one.\n",
    "    image_copy = test_image.copy()\n",
    "    \n",
    "\n",
    "    #convert the test image to gray scale as opencv face detector expects gray images\n",
    "    gray_image = cv2.cvtColor(image_copy, cv2.COLOR_BGR2GRAY)\n",
    "   \n",
    "    # Applying the haar classifier to detect faces\n",
    "    faces_rect = cascade.detectMultiScale(gray_image,scaleFactor=scaleFactor, minNeighbors=10)\n",
    "    i=1\n",
    "    \n",
    "\n",
    "    for (x, y, w, h) in faces_rect:\n",
    "        \n",
    "        cv2.rectangle(image_copy, (x, y), (x+w, y+h), (0, 255, 0), 5)\n",
    "        cv2.imwrite(str(z)+'.jpg',image_copy)\n",
    "        roi_color = image_copy[y-10:y + h+10, x-10:x + w+10]\n",
    "        roi_color=cv2.resize(roi_color,(300,300))\n",
    "        cv2.imwrite(str(z)+'_'+str(i) +'_faces.jpg', roi_color)\n",
    "        i+=1\n",
    "       \n",
    "   \n",
    "        \n",
    "       \n",
    "        \n",
    "\n",
    "    \n",
    "\n",
    "\n",
    "    return image_copy\n"
   ]
  },
  {
   "cell_type": "code",
   "execution_count": 6,
   "metadata": {},
   "outputs": [],
   "source": [
    "# faces = detect_faces(haar_cascade_face, test1)\n",
    "# plt.imshow(convertToRGB(faces))\n",
    "\n",
    "\n",
    "\n"
   ]
  },
  {
   "cell_type": "code",
   "execution_count": 24,
   "metadata": {},
   "outputs": [],
   "source": [
    "cap = cv2.VideoCapture(0)\n",
    "z=0\n",
    "while True:\n",
    "    \n",
    "    ret, img = cap.read()\n",
    "    faces = detect_faces(haar_cascade_face, img)\n",
    "    cv2.imshow('img',faces)\n",
    "    z+=1\n",
    "    k = cv2.waitKey(1) & 0xff\n",
    "    if k == 27:\n",
    "        break\n",
    "\n",
    "cap.release()\n",
    "cv2.destroyAllWindows()\n",
    "    "
   ]
  },
  {
   "cell_type": "code",
   "execution_count": 8,
   "metadata": {
    "scrolled": false
   },
   "outputs": [
    {
     "ename": "FileNotFoundError",
     "evalue": "[WinError 3] The system cannot find the path specified: 'test'",
     "output_type": "error",
     "traceback": [
      "\u001b[1;31m---------------------------------------------------------------------------\u001b[0m",
      "\u001b[1;31mFileNotFoundError\u001b[0m                         Traceback (most recent call last)",
      "\u001b[1;32m<ipython-input-8-4b85b38decff>\u001b[0m in \u001b[0;36m<module>\u001b[1;34m\u001b[0m\n\u001b[0;32m      1\u001b[0m \u001b[1;32mimport\u001b[0m \u001b[0mos\u001b[0m\u001b[1;33m\u001b[0m\u001b[1;33m\u001b[0m\u001b[0m\n\u001b[1;32m----> 2\u001b[1;33m \u001b[0mtest\u001b[0m \u001b[1;33m=\u001b[0m \u001b[0mos\u001b[0m\u001b[1;33m.\u001b[0m\u001b[0mlistdir\u001b[0m\u001b[1;33m(\u001b[0m\u001b[1;34m\"test\"\u001b[0m\u001b[1;33m)\u001b[0m\u001b[1;33m\u001b[0m\u001b[1;33m\u001b[0m\u001b[0m\n\u001b[0m\u001b[0;32m      3\u001b[0m \u001b[0mz\u001b[0m\u001b[1;33m=\u001b[0m\u001b[1;36m1\u001b[0m\u001b[1;33m\u001b[0m\u001b[1;33m\u001b[0m\u001b[0m\n\u001b[0;32m      4\u001b[0m \u001b[1;32mfor\u001b[0m \u001b[0mi\u001b[0m \u001b[1;32min\u001b[0m \u001b[0mtest\u001b[0m\u001b[1;33m:\u001b[0m\u001b[1;33m\u001b[0m\u001b[1;33m\u001b[0m\u001b[0m\n\u001b[0;32m      5\u001b[0m     \u001b[0mprint\u001b[0m\u001b[1;33m(\u001b[0m\u001b[0mi\u001b[0m\u001b[1;33m)\u001b[0m\u001b[1;33m\u001b[0m\u001b[1;33m\u001b[0m\u001b[0m\n",
      "\u001b[1;31mFileNotFoundError\u001b[0m: [WinError 3] The system cannot find the path specified: 'test'"
     ]
    }
   ],
   "source": [
    "import os\n",
    "test = os.listdir(\"test\")\n",
    "z=1\n",
    "for i in test:\n",
    "    print(i)\n",
    "    faces = detect_faces(haar_cascade_face, cv2.imread('test/'+i))\n",
    "    plt.imshow(convertToRGB(faces))\n",
    "    plt.show()\n",
    "    z+=1\n",
    "\n",
    "\n",
    "    "
   ]
  },
  {
   "cell_type": "markdown",
   "metadata": {},
   "source": [
    "### note it may not work for people with qutra\n",
    "#it may contain other factor as faces\n",
    "#dealing with the image in BGR give more image detection for the model\n",
    "#changing the numbers in scale by adding small decimal improve the modeld\n",
    "#minimizing the number of nighebor improve the model\n",
    "#the idea is to extract all the minimum scaled with minimum number pics and scale it up again then enter it to the model again\n",
    "#adding new layer to the edges to detect all the minimum \n",
    "#add more pics for woman specially with Hijab\n",
    "#add pics for Latters both in Arabic And English in negative data\n",
    "#add pics for geometric shapes and engineer tools and gears\n",
    "#add some logos in n trening\n",
    "#add shoes and paper in negative training \n",
    "#add negatinve pics for trees \n",
    "#try to add pics for women in Niqab\n",
    "#add more pics for people wearing glasses for both gender and different looks\n"
   ]
  },
  {
   "cell_type": "code",
   "execution_count": null,
   "metadata": {},
   "outputs": [],
   "source": [
    "#2"
   ]
  },
  {
   "cell_type": "code",
   "execution_count": null,
   "metadata": {},
   "outputs": [],
   "source": []
  }
 ],
 "metadata": {
  "kernelspec": {
   "display_name": "Python 3",
   "language": "python",
   "name": "python3"
  },
  "language_info": {
   "codemirror_mode": {
    "name": "ipython",
    "version": 3
   },
   "file_extension": ".py",
   "mimetype": "text/x-python",
   "name": "python",
   "nbconvert_exporter": "python",
   "pygments_lexer": "ipython3",
   "version": "3.7.3"
  }
 },
 "nbformat": 4,
 "nbformat_minor": 2
}
